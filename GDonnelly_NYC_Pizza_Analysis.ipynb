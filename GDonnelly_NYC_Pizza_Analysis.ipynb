{
 "cells": [
  {
   "cell_type": "markdown",
   "id": "defined-comedy",
   "metadata": {},
   "source": [
    "# Phase 1 Project\n",
    "\n",
    "## Introduction\n",
    "\n",
    "Congratulations on completing phase 1! In this notebook, you will complete a final project that applies your python and visualization skills to real word business data. \n",
    "\n",
    "## Objectives \n",
    "In this project, you will...\n",
    "- Read in data that has been stored as a `json` file.\n",
    "- Describe how the data is structured.\n",
    "- Use Python to filter a nested data structure\n",
    "- Define python functions\n",
    "- Calculate descriptive statistics\n",
    "- Visualize data via matplotlib\n",
    "\n",
    "\n",
    "# Task: Compare New York Pizza Restaurants with Above Average and Below Average Ratings\n",
    "![Pizza gif](https://media.giphy.com/media/eK1eFdpj5kMWqZ9bLJ/giphy.gif?cid=ecf05e47rkbp48nwz3za6dloo8xfwzueu0rx2vklguo7xyhu&rid=giphy.gif&ct=g)\n",
    "\n",
    "## Business Understanding \n",
    "\n",
    "A client at your analytics firm is considering opening a pizza restaurant in New York City. \n",
    "\n",
    "They have asked you to develop a business intelligence report to fact check the following claims:\n",
    "1. Your client wants to ensure they have an above average Yelp rating. They have previously owned restuarants in other cities, where a `3` was the average. They would like to know if that holds true in New York City. \n",
    "1. Your client has noticed that restaurants on yelp with a high review count seem to be quite successful. They have decided to focus on maximizing their review count which they believe will allow them to have an above average overall review. \n",
    "1. After looking at a few restaurants on Yelp, your client believes that most above average restaurants have a price point of `$$`. They are considering increasing their prices from `$` to `$$` to match the majority of above average restaurants, and would like you to find the most common price point for above average restaurants in New York City.\n",
    "1. In terms of location they have been told that above average restaurants are usually further east and below average are usually further west, but that the biggest difference is whether the restaurant is on the north or south side. They would like you to determine if the data supports this claim.\n",
    "1. They believe that the `10012` zipcode in New York City is the best place to open a restaurant. They wish to open a restaurant in close proximity to other highly rated restaurants, and they believe `10012` has the most in NYC.\n",
    "\n",
    "\n",
    "\n",
    "The primary purpose of this analysis is _descriptive_, meaning your analysis should report calculated statistics such as `counts` and `mean`, and should be focused on providing a simple, factual, understanding of the data. \n",
    "\n",
    "\n",
    "## Data Understanding\n",
    "\n",
    "You have been provided a Yelp dataset containing information about restaurants in New York City. The data is named `pizza_businesses.json` and is stored in the current working directory. You will need to load in this dataset, inspect how the data is structured, and use the provided information to fact check your client's claims. "
   ]
  },
  {
   "cell_type": "markdown",
   "id": "fundamental-explanation",
   "metadata": {},
   "source": [
    "## Load the data\n",
    "\n",
    "A dataset containing information about New York pizza restaurants is stored in this notebook's repository with the name `pizza_businesses.json`.\n",
    "\n",
    "In the cell below, load the json data into a python dictionary."
   ]
  },
  {
   "cell_type": "code",
   "execution_count": 1,
   "id": "a9dbff79",
   "metadata": {},
   "outputs": [
    {
     "name": "stdout",
     "output_type": "stream",
     "text": [
      "CONTRIBUTING.md    index_files\tLICENSE.md\t       README_files\r\n",
      "index-Copy1.ipynb  index.ipynb\tpizza_businesses.json  README.md\r\n"
     ]
    }
   ],
   "source": [
    "#Added code line\n",
    "! ls"
   ]
  },
  {
   "cell_type": "code",
   "execution_count": 2,
   "id": "finnish-hardwood",
   "metadata": {},
   "outputs": [],
   "source": [
    "# Replaced the code to import the json python package\n",
    "import json\n",
    "\n",
    "json.load\n",
    "\n",
    "# Load in the data\n",
    "with open('pizza_businesses.json') as f:\n",
    "    data = json.load(f)"
   ]
  },
  {
   "cell_type": "code",
   "execution_count": 3,
   "id": "8f437c06",
   "metadata": {},
   "outputs": [
    {
     "name": "stdout",
     "output_type": "stream",
     "text": [
      "dict_keys(['name', 'review_count', 'rating', 'price', 'location', 'transactions', 'phone', 'latitude', 'longitude'])\n",
      "<class 'str'>\n",
      "<class 'int'>\n",
      "<class 'float'>\n",
      "<class 'str'>\n",
      "<class 'dict'>\n",
      "<class 'list'>\n",
      "<class 'str'>\n",
      "<class 'float'>\n",
      "<class 'float'>\n"
     ]
    }
   ],
   "source": [
    "#Added code line to find out data types associated with keys and values\n",
    "print(data[0].keys())\n",
    "for v in data[0].values():\n",
    "    print(type(v))\n"
   ]
  },
  {
   "cell_type": "code",
   "execution_count": 4,
   "id": "9a1468a2",
   "metadata": {},
   "outputs": [
    {
     "name": "stdout",
     "output_type": "stream",
     "text": [
      "The data type of this file is : <class 'list'>\n",
      "\n",
      "The data type of a single observation is: <class 'dict'>\n",
      "\n",
      "The length of this file is: 1000\n",
      "\n",
      "An example of the contents of this file is: {'name': 'Prince Street Pizza', 'review_count': 3976, 'rating': 4.5, 'price': '\\\\$', 'location': {'address1': '27 Prince St', 'address2': None, 'address3': '', 'city': 'New York', 'zip_code': '10012', 'country': 'US', 'state': 'NY', 'display_address': ['27 Prince St', 'New York, NY 10012']}, 'transactions': ['delivery', 'pickup'], 'phone': '+12129664100', 'latitude': 40.72308755605564, 'longitude': -73.99453001177575}\n",
      "\n",
      "The first restaurant record is for:  Prince Street Pizza\n",
      "\n",
      "The first restaurant rating record is:  4.5\n",
      "\n",
      "The last restaurant record is for:  Aurora Soho\n",
      "\n",
      "The last restaurant rating record is:  4.0\n"
     ]
    }
   ],
   "source": [
    "#Added code line to explore the dataset further\n",
    "print(\"The data type of this file is :\", type(data)) # the data is a list\n",
    "print()\n",
    "print(\"The data type of a single observation is:\", type(data[0]))\n",
    "print()\n",
    "print(\"The length of this file is:\", len(data))\n",
    "print()\n",
    "print(\"An example of the contents of this file is:\", list(data)[0])\n",
    "print()\n",
    "print(\"The first restaurant record is for: \",(data[0]['name']))\n",
    "print()\n",
    "print(\"The first restaurant rating record is: \",(data[0]['rating']))\n",
    "print()\n",
    "print(\"The last restaurant record is for: \",(data[-1]['name']))\n",
    "print()\n",
    "print(\"The last restaurant rating record is: \",(data[-1]['rating']))\n"
   ]
  },
  {
   "cell_type": "markdown",
   "id": "74af0882",
   "metadata": {},
   "source": [
    "Analysis (Gill): \n",
    "\n",
    "The pizza_businesses.json file has been converted to Python syntax and is now a list of dictionaries containing strings, integers, floats and dictionaries as values. \n",
    "\n",
    "There are 1000 records which appear to contain metadata regarding restaurant businesses in New York including name, address, count of reviews, ratings, price, different types of services offered, phone number and location co-ordinates. \n"
   ]
  },
  {
   "cell_type": "markdown",
   "id": "enormous-operation",
   "metadata": {},
   "source": [
    "## Describe the data\n",
    "\n",
    "Now that you've loaded in the dataset, the structure of the data should be inspected.\n",
    "\n",
    "In the cell below, evaluate \n",
    "- The datatype of the overall dataset\n",
    "- The datatype of a single observation\n",
    "- The number of observations, and then\n",
    "- Isolate the first observation in the dataset"
   ]
  },
  {
   "cell_type": "code",
   "execution_count": 5,
   "id": "false-afghanistan",
   "metadata": {},
   "outputs": [
    {
     "name": "stdout",
     "output_type": "stream",
     "text": [
      "<class 'list'>\n",
      "\n",
      "[{'name': 'Prince Street Pizza', 'review_count': 3976, 'rating': 4.5, 'price': '\\\\$', 'location': {'address1': '27 Prince St', 'address2': None, 'address3': '', 'city': 'New York', 'zip_code': '10012', 'country': 'US', 'state': 'NY', 'display_address': ['27 Prince St', 'New York, NY 10012']}, 'transactions': ['delivery', 'pickup'], 'phone': '+12129664100', 'latitude': 40.72308755605564, 'longitude': -73.99453001177575}]\n",
      "\n",
      "<class 'dict'>\n",
      "\n",
      "1000\n"
     ]
    }
   ],
   "source": [
    "# Replaced the code to evaluate the data\n",
    "\n",
    "# Find the datatype for the overall dataset\n",
    "dataset_type =  type(data)\n",
    "print(dataset_type)\n",
    "print()\n",
    "\n",
    "# Isolate the first observation\n",
    "first_observation = list(data[0:1])\n",
    "print(first_observation)\n",
    "print()\n",
    "\n",
    "# Find the datatype for the first observation\n",
    "observation_type = type(data[1])\n",
    "print(observation_type)\n",
    "print()\n",
    "\n",
    "# How many observations are there\n",
    "num_observations = len(data)\n",
    "print(num_observations)\n"
   ]
  },
  {
   "cell_type": "markdown",
   "id": "canadian-wheel",
   "metadata": {},
   "source": [
    "Run this following cell unchanged to print out descriptive information for the dataset!"
   ]
  },
  {
   "cell_type": "code",
   "execution_count": 6,
   "id": "surprised-keyboard",
   "metadata": {},
   "outputs": [
    {
     "name": "stdout",
     "output_type": "stream",
     "text": [
      "The dataset is a \u001b[1m<class 'list'>\u001b[0m\n",
      "The observations are a \u001b[1m<class 'dict'>\u001b[0m\n",
      "There are \u001b[1m1000 observations.\u001b[0m\n",
      "\u001b[1m\n",
      "The first observation:\u001b[0m\n",
      "==========================================\n",
      "[{'latitude': 40.72308755605564,\n",
      "  'location': {'address1': '27 Prince St',\n",
      "               'address2': None,\n",
      "               'address3': '',\n",
      "               'city': 'New York',\n",
      "               'country': 'US',\n",
      "               'display_address': ['27 Prince St', 'New York, NY 10012'],\n",
      "               'state': 'NY',\n",
      "               'zip_code': '10012'},\n",
      "  'longitude': -73.99453001177575,\n",
      "  'name': 'Prince Street Pizza',\n",
      "  'phone': '+12129664100',\n",
      "  'price': '\\\\$',\n",
      "  'rating': 4.5,\n",
      "  'review_count': 3976,\n",
      "  'transactions': ['delivery', 'pickup']}]\n",
      "==========================================\n"
     ]
    }
   ],
   "source": [
    "from pprint import pprint\n",
    "\n",
    "print(f'The dataset is a \\033[1m{dataset_type}\\033[0m')\n",
    "print(f'The observations are a \\033[1m{observation_type}\\033[0m',)\n",
    "print(f'There are \\033[1m{num_observations} observations.\\033[0m')\n",
    "print('\\033[1m\\nThe first observation:\\033[0m')\n",
    "print('==========================================')\n",
    "pprint(first_observation)\n",
    "print('==========================================')"
   ]
  },
  {
   "cell_type": "markdown",
   "id": "atlantic-application",
   "metadata": {},
   "source": [
    "## Find the possible rating options. \n",
    "\n",
    "In the cell below, create a variable called `rating_options` that has a [set datatype](https://realpython.com/python-sets/), and is a unique collection of the possible ratings a restaurant can recieve."
   ]
  },
  {
   "cell_type": "code",
   "execution_count": 7,
   "id": "broke-array",
   "metadata": {},
   "outputs": [
    {
     "data": {
      "text/plain": [
       "{1.0, 2.0, 2.5, 3.0, 3.5, 4.0, 4.5, 5.0}"
      ]
     },
     "execution_count": 7,
     "metadata": {},
     "output_type": "execute_result"
    }
   ],
   "source": [
    "# Create the `rating_options` variable\n",
    "rating_options = []\n",
    "\n",
    "# Loop over all of the observations in the dataset\n",
    "# Isolate the rating for the restaurant\n",
    "# Add the rating to the `rating_options` variable\n",
    "for restaurant in data:\n",
    "    rating_options.append(restaurant['rating'])\n",
    "      \n",
    "rating_options = set(rating_options) \n",
    "\n",
    "sorted(rating_options)    \n",
    "    \n",
    "rating_options"
   ]
  },
  {
   "cell_type": "markdown",
   "id": "aquatic-fourth",
   "metadata": {},
   "source": [
    "Run the next cell unchanged to test your work!\n",
    "> If the below cell runs without throwing an error, your code is likely correct!"
   ]
  },
  {
   "cell_type": "code",
   "execution_count": 8,
   "id": "czech-spring",
   "metadata": {},
   "outputs": [],
   "source": [
    "assert type(rating_options) == set\n",
    "assert len(rating_options) == 8\n",
    "assert list(rating_options)[0] != list(rating_options)[1]"
   ]
  },
  {
   "cell_type": "markdown",
   "id": "charitable-oracle",
   "metadata": {},
   "source": [
    "## Plot the distribution for ratings\n",
    "\n",
    "Now that you know what rating options are available, in the cell below plot a histogram showing the distribution of ratings. "
   ]
  },
  {
   "cell_type": "code",
   "execution_count": 9,
   "id": "electric-grocery",
   "metadata": {},
   "outputs": [
    {
     "data": {
      "image/png": "[encoded data removed]",
      "text/plain": [
       "<Figure size 432x288 with 1 Axes>"
      ]
     },
     "metadata": {
      "needs_background": "light"
     },
     "output_type": "display_data"
    }
   ],
   "source": [
    "# Import matplotlib's pyplot module\n",
    "import matplotlib.pyplot as plt\n",
    "\n",
    "# Create an empty list.\n",
    "# We will store all ratings in this list\n",
    "ratings = []\n",
    "\n",
    "# Loop over every restaurant in the dataset\n",
    "# YOUR CODE HERE\n",
    "    # Isolate the rating\n",
    "    # YOUR CODE HERE\n",
    "    # Append the rating to the `ratings` list\n",
    "    # YOUR CODE HERE\n",
    "for restaurant in data:\n",
    "    ratings.append(restaurant['rating'])\n",
    "\n",
    "# Create a matplotlib subplot\n",
    "# YOUR CODE HERE\n",
    "fig, ax = plt.subplots()\n",
    "\n",
    "# Plot a histogram of the ratings list\n",
    "# YOUR CODE HERE\n",
    "ax.hist(ratings, edgecolor=\"black\")\n",
    "\n",
    "# Set title\n",
    "ax.set_title(\"Distribution of restaurant ratings \\n Source:'pizza_businesses.json' file\", weight='bold')\n",
    "\n",
    "# Set labels for X and Y axes\n",
    "ax.set_xlabel(\"Ratings\")\n",
    "ax.set_ylabel(\"Frequency of Ratings\");\n"
   ]
  },
  {
   "cell_type": "code",
   "execution_count": 10,
   "id": "f865eaa9",
   "metadata": {},
   "outputs": [
    {
     "name": "stdout",
     "output_type": "stream",
     "text": [
      "The average rating of the restaurant data ratings is: 4.016\n"
     ]
    }
   ],
   "source": [
    "#Added code line to find average of restaurant data ratings\n",
    "average = sum(ratings)/len(ratings)\n",
    "print(\"The average rating of the restaurant data ratings is:\" , average)\n"
   ]
  },
  {
   "cell_type": "markdown",
   "id": "digital-marshall",
   "metadata": {},
   "source": [
    "**Interpret the ratings histogram. How does the visualization relate to your client's claims?**"
   ]
  },
  {
   "cell_type": "markdown",
   "id": "cd0abdbc",
   "metadata": {},
   "source": [
    "YOUR ANSWER HERE\n",
    "\n",
    "**Analysis:**\n",
    "Our clients are considering opening a pizza restaurant in New York City (NYC)and want to ensure this restaurant has an above average Yelp rating. From their previous restaurant ownership experience in other cities, they found an average rating of 3 and want to know if this holds true in NYC.\n",
    "\n",
    "According to this data, the average rating of 3 does not hold true in NYC as the rating average according to this data is higher at 4.016. \n",
    "\n",
    "Of note are several lower outliers observed in this data which skews the average rate negatively and, if removed, the average will be higher than 4.016. \n",
    "\n",
    "**Limitations:**\n",
    "The limitations of this analysis are that there is no confirmation as yet if the dataset is the best representative of NYC pizza restaurants in size or in recency of the dataset. Also, given the outliers observed the data requires further analysis.  \n"
   ]
  },
  {
   "cell_type": "markdown",
   "id": "martial-receiver",
   "metadata": {},
   "source": [
    "## Isolate the restaurants with an above average rating\n",
    "\n",
    "Now that you have an understanding for what is an average rating, next you will isolate restaurants with above average and below average ratings so you can compare them.\n",
    "\n",
    "In the cell below, filter out all restaurants that do not have a rating of at least `4.5`."
   ]
  },
  {
   "cell_type": "code",
   "execution_count": 11,
   "id": "possible-arrest",
   "metadata": {},
   "outputs": [
    {
     "name": "stdout",
     "output_type": "stream",
     "text": [
      "<class 'list'>\n",
      "306\n",
      "<class 'dict'>\n"
     ]
    }
   ],
   "source": [
    "# Create an empty list\n",
    "# You will store restaurants in this list\n",
    "above_average = []\n",
    "\n",
    "# Loop over the dataset\n",
    "# YOUR CODE HERE\n",
    "for restaurant in data:\n",
    "    # Isolate the rating\n",
    "    #Check if the rating is at least 4.5\n",
    "    # YOUR CODE HERE\n",
    "    if restaurant['rating'] >= 4.5:\n",
    "        \n",
    "        # If the rating is at least 4.5\n",
    "        # Add the restaurant to the list\n",
    "        # YOUR CODE HERE\n",
    "        above_average.append(restaurant)\n",
    "\n",
    "print(type(above_average))\n",
    "print(len(above_average))\n",
    "print(type(above_average[0])) \n"
   ]
  },
  {
   "cell_type": "markdown",
   "id": "compressed-timeline",
   "metadata": {},
   "source": [
    "Run the next cell unchanged to test your work!\n",
    "> If the below cell runs without throwing an error, your code is likely correct!"
   ]
  },
  {
   "cell_type": "code",
   "execution_count": 12,
   "id": "falling-argentina",
   "metadata": {},
   "outputs": [],
   "source": [
    "assert type(above_average) == list\n",
    "assert type(above_average[0]) == dict\n",
    "assert len(above_average) == 306"
   ]
  },
  {
   "cell_type": "markdown",
   "id": "elder-petersburg",
   "metadata": {},
   "source": [
    "## Isolate restaurants with a below average rating\n",
    "\n",
    "Now repeat the process for below average ratings.\n",
    "\n",
    "In the cell below, isolate restaurants that have a rating of no more than `3.5`."
   ]
  },
  {
   "cell_type": "code",
   "execution_count": 13,
   "id": "intense-deviation",
   "metadata": {},
   "outputs": [
    {
     "name": "stdout",
     "output_type": "stream",
     "text": [
      "<class 'list'>\n",
      "247\n",
      "<class 'dict'>\n"
     ]
    }
   ],
   "source": [
    "# Create an empty list\n",
    "# You will store restaurants in this list\n",
    "below_average = []\n",
    "\n",
    "# Loop over the restaurants in the dataset\n",
    "# YOUR CODE HERE\n",
    "for restaurant in data:\n",
    "    \n",
    "    # Isolate the rating\n",
    "    # YOUR CODE HERE\n",
    "    if restaurant['rating'] <= 3.5:\n",
    "    \n",
    "    # Check if the rating is no more than 3.5\n",
    "    # YOUR CODE HERE\n",
    "        below_average.append(restaurant)\n",
    "    \n",
    "        # If the rating no more than 3.5\n",
    "        # Add the restaurant to the list\n",
    "        # YOUR CODE HERE\n",
    "print(type(below_average))\n",
    "print(len(below_average))\n",
    "print(type(below_average[0])) \n"
   ]
  },
  {
   "cell_type": "markdown",
   "id": "congressional-airline",
   "metadata": {},
   "source": [
    "Run the next cell unchanged to test your work!\n",
    "> If the below cell runs without throwing an error, your code is likely correct!"
   ]
  },
  {
   "cell_type": "code",
   "execution_count": 14,
   "id": "engaged-resident",
   "metadata": {},
   "outputs": [],
   "source": [
    "assert type(below_average) == list\n",
    "assert type(below_average[0]) == dict\n",
    "assert len(below_average) == 247"
   ]
  },
  {
   "cell_type": "markdown",
   "id": "competitive-roommate",
   "metadata": {},
   "source": [
    "## Calculate average review counts for both groups\n",
    "\n",
    "Now that you've isolated above average and below average restaurants, you can calculate the average number of reviews received by both groups.\n",
    "\n",
    "To do this, you will need to isolate the review counts for both groups, and calculate their average. \n",
    "\n",
    "The code for isolating the review counts will look very similar to code you have previously written, which is a good sign that a function should be defined!\n",
    "\n",
    "In the cell below, define a function called `isolate_values` that receives two arguments:\n",
    "1. A list of dictionaries\n",
    "2. A string indicating the key that should be isolated for each dictionary\n",
    "\n",
    "This function should:\n",
    "- Loop over every dictionary in the inputted list\n",
    "- Pull out the value assigned to the inputted key\n",
    "- Append the value to a new list\n",
    "- Return the new list of values"
   ]
  },
  {
   "cell_type": "code",
   "execution_count": 15,
   "id": "efficient-kingdom",
   "metadata": {},
   "outputs": [],
   "source": [
    "def isolate_values(dictionaries, key):\n",
    "    # Create an empty list\n",
    "    # for storing data\n",
    "    # YOUR CODE HERE\n",
    "    values_list = []\n",
    "  \n",
    "    # Loop over every dictionary \n",
    "    # YOUR CODE HERE\n",
    "    for dictionary in dictionaries:\n",
    "        \n",
    "        # Isolate the value of the dictionary with the `key`\n",
    "        # YOUR CODE HERE \n",
    "        value = dictionary[key]\n",
    "        # Append the value to the list\n",
    "        # YOUR CODE HERE\n",
    "        values_list.append(value)\n",
    "                   \n",
    "    # Return the list of values\n",
    "    # YOUR CODE HERE\n",
    "    return values_list"
   ]
  },
  {
   "cell_type": "code",
   "execution_count": 16,
   "id": "e5acfb6a",
   "metadata": {},
   "outputs": [
    {
     "name": "stdout",
     "output_type": "stream",
     "text": [
      "The mean review count for all restaurants is: 363.771\n",
      "The mean review count for the above average rating restaurants is: 189.3856209150327\n",
      "The mean review count for the below average rating restaurants is: 285.99595141700405\n"
     ]
    }
   ],
   "source": [
    "#added code to check average review count for each data group\n",
    "def mean_review_count(data):\n",
    "    review_counts = []\n",
    "    \n",
    "    for restaurant in data:\n",
    "        review_counts.append(restaurant['review_count'])\n",
    "          \n",
    "    mean = sum(review_counts)/len(review_counts)\n",
    "    return mean\n",
    "  \n",
    "print(\"The mean review count for all restaurants is:\",mean_review_count(data))\n",
    "print(\"The mean review count for the above average rating restaurants is:\",mean_review_count(above_average))\n",
    "print(\"The mean review count for the below average rating restaurants is:\",mean_review_count(below_average))"
   ]
  },
  {
   "cell_type": "markdown",
   "id": "extended-portal",
   "metadata": {},
   "source": [
    "Run the next cell unchanged to test your work!\n",
    "> If the below cell runs without throwing an error, your code is likely correct!"
   ]
  },
  {
   "cell_type": "code",
   "execution_count": 17,
   "id": "yellow-phoenix",
   "metadata": {},
   "outputs": [],
   "source": [
    "from types import FunctionType\n",
    "\n",
    "assert type(isolate_values) == FunctionType\n",
    "assert type(isolate_values([{'test': 1}], 'test')) == list\n",
    "assert len(isolate_values([{'test': 1}], 'test')) == 1\n",
    "assert len(isolate_values(above_average, 'name')) == len(above_average)\n",
    "assert isolate_values(above_average, 'name')[-1] == above_average[-1]['name']"
   ]
  },
  {
   "cell_type": "markdown",
   "id": "outer-assembly",
   "metadata": {},
   "source": [
    "Now use the `isolate_values` function to create a list called `abv_avg_rev_cnts` that contains the review counts for every above average restaurant."
   ]
  },
  {
   "cell_type": "code",
   "execution_count": 18,
   "id": "useful-halloween",
   "metadata": {},
   "outputs": [
    {
     "name": "stdout",
     "output_type": "stream",
     "text": [
      "The review count total for 'Above Average Restaurants' in the dataset is: 57952\n",
      "The review count number for 'Above Average Restaurants' in the dataset is: 306\n",
      "The mean review count number for 'Above Average Restaurants' in the dataset is: 189.3856209150327\n"
     ]
    },
    {
     "data": {
      "text/plain": [
       "[1,\n",
       " 1,\n",
       " 1,\n",
       " 1,\n",
       " 1,\n",
       " 1,\n",
       " 1,\n",
       " 1,\n",
       " 1,\n",
       " 1,\n",
       " 2,\n",
       " 2,\n",
       " 2,\n",
       " 2,\n",
       " 2,\n",
       " 2,\n",
       " 2,\n",
       " 2,\n",
       " 3,\n",
       " 3,\n",
       " 3,\n",
       " 3,\n",
       " 3,\n",
       " 3,\n",
       " 3,\n",
       " 3,\n",
       " 4,\n",
       " 4,\n",
       " 4,\n",
       " 4,\n",
       " 4,\n",
       " 5,\n",
       " 5,\n",
       " 5,\n",
       " 5,\n",
       " 5,\n",
       " 5,\n",
       " 5,\n",
       " 6,\n",
       " 6,\n",
       " 6,\n",
       " 6,\n",
       " 6,\n",
       " 6,\n",
       " 6,\n",
       " 6,\n",
       " 7,\n",
       " 7,\n",
       " 7,\n",
       " 8,\n",
       " 8,\n",
       " 8,\n",
       " 8,\n",
       " 8,\n",
       " 8,\n",
       " 9,\n",
       " 9,\n",
       " 9,\n",
       " 10,\n",
       " 10,\n",
       " 10,\n",
       " 10,\n",
       " 10,\n",
       " 10,\n",
       " 10,\n",
       " 11,\n",
       " 11,\n",
       " 11,\n",
       " 11,\n",
       " 12,\n",
       " 12,\n",
       " 12,\n",
       " 13,\n",
       " 13,\n",
       " 15,\n",
       " 16,\n",
       " 16,\n",
       " 17,\n",
       " 17,\n",
       " 18,\n",
       " 18,\n",
       " 19,\n",
       " 20,\n",
       " 22,\n",
       " 22,\n",
       " 22,\n",
       " 23,\n",
       " 23,\n",
       " 24,\n",
       " 24,\n",
       " 25,\n",
       " 25,\n",
       " 25,\n",
       " 25,\n",
       " 26,\n",
       " 26,\n",
       " 26,\n",
       " 26,\n",
       " 26,\n",
       " 27,\n",
       " 27,\n",
       " 27,\n",
       " 27,\n",
       " 27,\n",
       " 28,\n",
       " 28,\n",
       " 29,\n",
       " 29,\n",
       " 30,\n",
       " 30,\n",
       " 31,\n",
       " 31,\n",
       " 33,\n",
       " 33,\n",
       " 34,\n",
       " 34,\n",
       " 35,\n",
       " 36,\n",
       " 36,\n",
       " 37,\n",
       " 38,\n",
       " 38,\n",
       " 38,\n",
       " 38,\n",
       " 39,\n",
       " 39,\n",
       " 39,\n",
       " 40,\n",
       " 40,\n",
       " 41,\n",
       " 41,\n",
       " 41,\n",
       " 42,\n",
       " 43,\n",
       " 48,\n",
       " 49,\n",
       " 50,\n",
       " 50,\n",
       " 51,\n",
       " 51,\n",
       " 53,\n",
       " 54,\n",
       " 55,\n",
       " 57,\n",
       " 57,\n",
       " 59,\n",
       " 62,\n",
       " 62,\n",
       " 62,\n",
       " 63,\n",
       " 63,\n",
       " 63,\n",
       " 65,\n",
       " 66,\n",
       " 66,\n",
       " 67,\n",
       " 70,\n",
       " 71,\n",
       " 73,\n",
       " 77,\n",
       " 77,\n",
       " 77,\n",
       " 80,\n",
       " 80,\n",
       " 81,\n",
       " 82,\n",
       " 83,\n",
       " 83,\n",
       " 84,\n",
       " 84,\n",
       " 91,\n",
       " 92,\n",
       " 96,\n",
       " 96,\n",
       " 101,\n",
       " 103,\n",
       " 105,\n",
       " 106,\n",
       " 106,\n",
       " 108,\n",
       " 110,\n",
       " 110,\n",
       " 111,\n",
       " 113,\n",
       " 115,\n",
       " 116,\n",
       " 116,\n",
       " 117,\n",
       " 118,\n",
       " 120,\n",
       " 123,\n",
       " 124,\n",
       " 125,\n",
       " 127,\n",
       " 128,\n",
       " 129,\n",
       " 131,\n",
       " 135,\n",
       " 135,\n",
       " 136,\n",
       " 137,\n",
       " 138,\n",
       " 143,\n",
       " 144,\n",
       " 149,\n",
       " 153,\n",
       " 153,\n",
       " 154,\n",
       " 154,\n",
       " 154,\n",
       " 156,\n",
       " 158,\n",
       " 163,\n",
       " 164,\n",
       " 164,\n",
       " 165,\n",
       " 166,\n",
       " 167,\n",
       " 168,\n",
       " 170,\n",
       " 173,\n",
       " 178,\n",
       " 180,\n",
       " 180,\n",
       " 182,\n",
       " 183,\n",
       " 186,\n",
       " 187,\n",
       " 187,\n",
       " 192,\n",
       " 204,\n",
       " 210,\n",
       " 210,\n",
       " 212,\n",
       " 221,\n",
       " 226,\n",
       " 233,\n",
       " 238,\n",
       " 242,\n",
       " 244,\n",
       " 245,\n",
       " 246,\n",
       " 248,\n",
       " 255,\n",
       " 280,\n",
       " 280,\n",
       " 281,\n",
       " 281,\n",
       " 285,\n",
       " 289,\n",
       " 289,\n",
       " 290,\n",
       " 292,\n",
       " 297,\n",
       " 297,\n",
       " 303,\n",
       " 303,\n",
       " 305,\n",
       " 310,\n",
       " 316,\n",
       " 320,\n",
       " 320,\n",
       " 324,\n",
       " 324,\n",
       " 325,\n",
       " 326,\n",
       " 340,\n",
       " 357,\n",
       " 362,\n",
       " 367,\n",
       " 367,\n",
       " 369,\n",
       " 399,\n",
       " 429,\n",
       " 449,\n",
       " 453,\n",
       " 465,\n",
       " 473,\n",
       " 476,\n",
       " 477,\n",
       " 503,\n",
       " 517,\n",
       " 529,\n",
       " 556,\n",
       " 559,\n",
       " 562,\n",
       " 562,\n",
       " 587,\n",
       " 596,\n",
       " 628,\n",
       " 634,\n",
       " 657,\n",
       " 767,\n",
       " 797,\n",
       " 828,\n",
       " 865,\n",
       " 946,\n",
       " 1080,\n",
       " 1164,\n",
       " 1262,\n",
       " 1285,\n",
       " 1955,\n",
       " 2354,\n",
       " 2438,\n",
       " 2748,\n",
       " 3976]"
      ]
     },
     "execution_count": 18,
     "metadata": {},
     "output_type": "execute_result"
    }
   ],
   "source": [
    "# Replace None with your code\n",
    "abv_avg_rev_cnts = isolate_values(above_average, 'review_count')\n",
    "\n",
    "print(\"The review count total for 'Above Average Restaurants' in the dataset is:\",sum(abv_avg_rev_cnts))\n",
    "print(\"The review count number for 'Above Average Restaurants' in the dataset is:\",len(abv_avg_rev_cnts))\n",
    "print(\"The mean review count number for 'Above Average Restaurants' in the dataset is:\",sum(abv_avg_rev_cnts)/len(abv_avg_rev_cnts))\n",
    "list(sorted(abv_avg_rev_cnts))"
   ]
  },
  {
   "cell_type": "markdown",
   "id": "severe-amateur",
   "metadata": {},
   "source": [
    "Now use the `isolate_values` function to create a list called `blw_avg_rev_cnts` that contains the review counts for every below average restaurant."
   ]
  },
  {
   "cell_type": "code",
   "execution_count": 19,
   "id": "herbal-interim",
   "metadata": {},
   "outputs": [
    {
     "name": "stdout",
     "output_type": "stream",
     "text": [
      "The review count total for 'Below Average Restaurants' in the dataset is: 70641\n",
      "The review count number for 'Below Average Restaurants' in the dataset is: 247\n",
      "The mean review count number for 'Below Average Restaurants' in the dataset is: 285.99595141700405\n"
     ]
    },
    {
     "data": {
      "text/plain": [
       "[1,\n",
       " 2,\n",
       " 3,\n",
       " 3,\n",
       " 4,\n",
       " 4,\n",
       " 5,\n",
       " 6,\n",
       " 7,\n",
       " 7,\n",
       " 7,\n",
       " 8,\n",
       " 8,\n",
       " 9,\n",
       " 9,\n",
       " 10,\n",
       " 13,\n",
       " 14,\n",
       " 15,\n",
       " 19,\n",
       " 20,\n",
       " 20,\n",
       " 20,\n",
       " 20,\n",
       " 21,\n",
       " 22,\n",
       " 23,\n",
       " 24,\n",
       " 27,\n",
       " 32,\n",
       " 33,\n",
       " 33,\n",
       " 35,\n",
       " 36,\n",
       " 36,\n",
       " 36,\n",
       " 37,\n",
       " 39,\n",
       " 39,\n",
       " 44,\n",
       " 47,\n",
       " 49,\n",
       " 53,\n",
       " 54,\n",
       " 54,\n",
       " 56,\n",
       " 56,\n",
       " 57,\n",
       " 57,\n",
       " 57,\n",
       " 60,\n",
       " 62,\n",
       " 64,\n",
       " 64,\n",
       " 65,\n",
       " 69,\n",
       " 71,\n",
       " 73,\n",
       " 74,\n",
       " 75,\n",
       " 76,\n",
       " 77,\n",
       " 77,\n",
       " 77,\n",
       " 78,\n",
       " 78,\n",
       " 78,\n",
       " 79,\n",
       " 79,\n",
       " 81,\n",
       " 84,\n",
       " 84,\n",
       " 88,\n",
       " 90,\n",
       " 91,\n",
       " 91,\n",
       " 94,\n",
       " 95,\n",
       " 98,\n",
       " 100,\n",
       " 103,\n",
       " 105,\n",
       " 107,\n",
       " 109,\n",
       " 109,\n",
       " 110,\n",
       " 111,\n",
       " 114,\n",
       " 116,\n",
       " 117,\n",
       " 119,\n",
       " 121,\n",
       " 127,\n",
       " 127,\n",
       " 127,\n",
       " 127,\n",
       " 129,\n",
       " 130,\n",
       " 130,\n",
       " 130,\n",
       " 132,\n",
       " 132,\n",
       " 134,\n",
       " 136,\n",
       " 136,\n",
       " 138,\n",
       " 142,\n",
       " 144,\n",
       " 145,\n",
       " 146,\n",
       " 146,\n",
       " 147,\n",
       " 148,\n",
       " 150,\n",
       " 153,\n",
       " 155,\n",
       " 156,\n",
       " 158,\n",
       " 162,\n",
       " 163,\n",
       " 163,\n",
       " 164,\n",
       " 168,\n",
       " 168,\n",
       " 170,\n",
       " 174,\n",
       " 176,\n",
       " 178,\n",
       " 179,\n",
       " 182,\n",
       " 184,\n",
       " 187,\n",
       " 189,\n",
       " 191,\n",
       " 191,\n",
       " 191,\n",
       " 198,\n",
       " 205,\n",
       " 211,\n",
       " 212,\n",
       " 219,\n",
       " 228,\n",
       " 231,\n",
       " 231,\n",
       " 234,\n",
       " 236,\n",
       " 237,\n",
       " 240,\n",
       " 241,\n",
       " 243,\n",
       " 246,\n",
       " 247,\n",
       " 247,\n",
       " 249,\n",
       " 255,\n",
       " 256,\n",
       " 257,\n",
       " 263,\n",
       " 264,\n",
       " 266,\n",
       " 267,\n",
       " 270,\n",
       " 271,\n",
       " 277,\n",
       " 279,\n",
       " 280,\n",
       " 286,\n",
       " 287,\n",
       " 288,\n",
       " 289,\n",
       " 291,\n",
       " 292,\n",
       " 294,\n",
       " 296,\n",
       " 302,\n",
       " 308,\n",
       " 311,\n",
       " 316,\n",
       " 317,\n",
       " 318,\n",
       " 320,\n",
       " 322,\n",
       " 326,\n",
       " 329,\n",
       " 331,\n",
       " 338,\n",
       " 338,\n",
       " 339,\n",
       " 343,\n",
       " 348,\n",
       " 354,\n",
       " 357,\n",
       " 357,\n",
       " 370,\n",
       " 373,\n",
       " 379,\n",
       " 379,\n",
       " 391,\n",
       " 392,\n",
       " 393,\n",
       " 403,\n",
       " 406,\n",
       " 406,\n",
       " 410,\n",
       " 416,\n",
       " 418,\n",
       " 440,\n",
       " 446,\n",
       " 446,\n",
       " 460,\n",
       " 460,\n",
       " 463,\n",
       " 465,\n",
       " 505,\n",
       " 523,\n",
       " 535,\n",
       " 550,\n",
       " 563,\n",
       " 586,\n",
       " 597,\n",
       " 597,\n",
       " 599,\n",
       " 617,\n",
       " 632,\n",
       " 643,\n",
       " 667,\n",
       " 670,\n",
       " 700,\n",
       " 767,\n",
       " 775,\n",
       " 790,\n",
       " 798,\n",
       " 846,\n",
       " 861,\n",
       " 885,\n",
       " 892,\n",
       " 915,\n",
       " 920,\n",
       " 1022,\n",
       " 1056,\n",
       " 1085,\n",
       " 1123,\n",
       " 1520,\n",
       " 1611,\n",
       " 2157,\n",
       " 2869,\n",
       " 4683]"
      ]
     },
     "execution_count": 19,
     "metadata": {},
     "output_type": "execute_result"
    }
   ],
   "source": [
    "# Replace None with your code\n",
    "blw_avg_rev_cnts = isolate_values(below_average, 'review_count')\n",
    "\n",
    "print(\"The review count total for 'Below Average Restaurants' in the dataset is:\",sum(blw_avg_rev_cnts))\n",
    "print(\"The review count number for 'Below Average Restaurants' in the dataset is:\",len(blw_avg_rev_cnts))\n",
    "print(\"The mean review count number for 'Below Average Restaurants' in the dataset is:\",sum(blw_avg_rev_cnts)/len(blw_avg_rev_cnts))\n",
    "list(sorted(blw_avg_rev_cnts))"
   ]
  },
  {
   "cell_type": "markdown",
   "id": "executive-hormone",
   "metadata": {},
   "source": [
    "Run the next cell unchanged to test your work!\n",
    "> If the below cell runs without throwing an error, your code is likely correct!"
   ]
  },
  {
   "cell_type": "code",
   "execution_count": 20,
   "id": "utility-pharmacy",
   "metadata": {},
   "outputs": [],
   "source": [
    "assert type(abv_avg_rev_cnts) == list\n",
    "assert type(abv_avg_rev_cnts[0]) == int\n",
    "assert type(blw_avg_rev_cnts) == list\n",
    "assert type(blw_avg_rev_cnts[0]) == int\n",
    "assert len(abv_avg_rev_cnts) == len(above_average)\n",
    "assert len(blw_avg_rev_cnts) == len(below_average)\n",
    "assert abv_avg_rev_cnts[101] == above_average[101]['review_count']\n",
    "assert blw_avg_rev_cnts[101] == below_average[101]['review_count']"
   ]
  },
  {
   "cell_type": "markdown",
   "id": "verbal-pressing",
   "metadata": {},
   "source": [
    "Now that you've isolated the review counts for both groups, you can calculate the average review count!\n",
    "\n",
    "But before you do that, you should inspect the distribution of review counts to make sure `mean` is an appropriate measure of centrality.\n",
    "\n",
    "In the cell below, we plot a histogram for above average and below average restaurant review counts."
   ]
  },
  {
   "cell_type": "code",
   "execution_count": 21,
   "id": "wooden-viking",
   "metadata": {},
   "outputs": [
    {
     "data": {
      "image/png": "[encoded data removed]",
      "text/plain": [
       "<Figure size 1080x432 with 2 Axes>"
      ]
     },
     "metadata": {
      "needs_background": "light"
     },
     "output_type": "display_data"
    }
   ],
   "source": [
    "# Initialize a matplotlib subplot\n",
    "# with 1 row and 2 columns\n",
    "fig, ax = plt.subplots(1,2, figsize=(15,6))\n",
    "\n",
    "# Plot a histogram of below average review counts\n",
    "# on the first axis\n",
    "ax[0].hist(blw_avg_rev_cnts, edgecolor=\"black\")\n",
    "\n",
    "# Set the title for the first axis\n",
    "# to \"Below Average - Review Counts\"\n",
    "ax[0].set_title(\"Below Average - Review Counts\", weight='bold')\n",
    "\n",
    "# Plot a histogram of above average review counts\n",
    "\n",
    "# on the first axis\n",
    "ax[1].hist(abv_avg_rev_cnts, edgecolor=\"black\")\n",
    "\n",
    "# Set the title for the first axis\n",
    "# to \"Above Average - Review Counts\"\n",
    "ax[1].set_title(\"Above Average - Review Counts\", weight='bold');\n"
   ]
  },
  {
   "cell_type": "markdown",
   "id": "regulation-radius",
   "metadata": {},
   "source": [
    "**Interpret the above visualizations. What statistic is best suited for these data?**"
   ]
  },
  {
   "cell_type": "markdown",
   "id": "atmospheric-trauma",
   "metadata": {},
   "source": [
    "YOUR ANSWER HERE\n",
    "\n",
    "**Analysis:** The statistic best suited for data in the above graphs is:\n",
    "- the mean review count for restaurants with below average ratings is between 0 and approximately 500; and\n",
    "- the mean review count for restaurants with above average ratings is between 0 and approximately 400. \n",
    "\n",
    "**Limitations:** The above graphs pose difficulties for interpretation with the following observations:\n",
    "- there are no labels for the x and y axes;\n",
    "- the bounds of the y axes are not high enough;\n",
    "- the bounds of the x axes are tightly packed so that the bulk of the data is contained within the first bar;\n",
    "- the bounds' ticks for each graph are not the same; and\n",
    "- the axes do not commence at the same place. \n"
   ]
  },
  {
   "cell_type": "markdown",
   "id": "continuous-mills",
   "metadata": {},
   "source": [
    "In the cell below, calculate the average review count for above average and below average restaurants."
   ]
  },
  {
   "cell_type": "code",
   "execution_count": 22,
   "id": "terminal-morrison",
   "metadata": {
    "scrolled": true
   },
   "outputs": [
    {
     "name": "stdout",
     "output_type": "stream",
     "text": [
      "Above average review count: 189.3856209150327\n",
      "Below average review count: 285.99595141700405\n"
     ]
    }
   ],
   "source": [
    "# Import numpy\n",
    "# YOUR CODE HERE\n",
    "import numpy as np\n",
    "\n",
    "# Replace None with your code\n",
    "abv_avg_rev_cnt_center = sum(abv_avg_rev_cnts)/len(abv_avg_rev_cnts)\n",
    "blw_avg_rev_cnt_center = sum(blw_avg_rev_cnts)/len(blw_avg_rev_cnts)\n",
    "\n",
    "print('Above average review count:', abv_avg_rev_cnt_center)\n",
    "print('Below average review count:', blw_avg_rev_cnt_center)"
   ]
  },
  {
   "cell_type": "markdown",
   "id": "sitting-associate",
   "metadata": {},
   "source": [
    "**Interpret the average review count for both groups. How does this relate to your client's claims?**"
   ]
  },
  {
   "cell_type": "markdown",
   "id": "stunning-setup",
   "metadata": {},
   "source": [
    "YOUR ANSWER HERE\n",
    "\n",
    "**Analysis:** Our client believes that restaurants on Yelp with a high review count seem to be quite successful. According to this data, the average review counts for the above and below average rating restaurants appear significantly different with the highest median (approximately 286 reviews) actually associated with below average rating restaurants. \n",
    "\n",
    "This observation does not substantiate the client's assertion and brings into question if the strategy to focus on maximizing review counts will faciliate an above average rating.\n",
    "\n",
    "**Limitations:** The limitations associated with this analysis are:\n",
    "- There are outliers in both above and below average rating data that skew the average review count upwards; and \n",
    "- The actual reviews for these restaurants have not been analysed for their relevance.  \n"
   ]
  },
  {
   "cell_type": "markdown",
   "id": "fallen-dress",
   "metadata": {},
   "source": [
    "## Count the price option frequency\n",
    "\n",
    "The `price` variable in the dataset is a string of dollar signs indicating how expensive a restaurant's price point is. \n",
    "\n",
    "In the cell below, write a for loop that counts how frequently a given price point appears for the `above_average` dataset"
   ]
  },
  {
   "cell_type": "code",
   "execution_count": 23,
   "id": "verbal-peripheral",
   "metadata": {},
   "outputs": [
    {
     "data": {
      "text/plain": [
       "{'\\\\$': 74, '\\\\$\\\\$': 87, 'Unknown': 134, '\\\\$\\\\$\\\\$': 10, '\\\\$\\\\$\\\\$\\\\$': 1}"
      ]
     },
     "execution_count": 23,
     "metadata": {},
     "output_type": "execute_result"
    }
   ],
   "source": [
    "# Create an empty dictionary to store the\n",
    "# counts for each price point\n",
    "abv_avg_prices = {}\n",
    "price_key = []\n",
    "\n",
    "# Loop over the above average restaurants\n",
    "# YOUR CODE HERE\n",
    "for restaurant in above_average:\n",
    "           \n",
    "    # Isolate the price point for the restuarant\n",
    "    # YOUR CODE HERE\n",
    "    price_key.append(restaurant['price'])\n",
    "\n",
    "    # Check if the price has been added to the dictionary\n",
    "    # YOUR CODE HERE\n",
    "\n",
    "for index in price_key:\n",
    "    abv_avg_prices[index] = abv_avg_prices.setdefault(index, 0) + 1\n",
    "    \n",
    "abv_avg_prices\n",
    "    \n",
    "            # If the price is already a key in the dictionary\n",
    "            # Add one to the count for that price point\n",
    "            # YOUR CODE HERE\n",
    "            \n",
    "    # If the price has not been added to the dictionary\n",
    "    # Else set the price as the key and the value as the integer `1`\n",
    "    # YOUR CODE HERE"
   ]
  },
  {
   "cell_type": "markdown",
   "id": "italic-theology",
   "metadata": {},
   "source": [
    "Run the next cell unchanged to test your work!\n",
    "> If the below cell runs without throwing an error, your code is likely correct!"
   ]
  },
  {
   "cell_type": "code",
   "execution_count": 24,
   "id": "romantic-password",
   "metadata": {},
   "outputs": [],
   "source": [
    "assert type(abv_avg_prices) == dict\n",
    "assert len(abv_avg_prices) == 5\n",
    "assert '\\\\$\\\\$\\\\$\\\\$' in abv_avg_prices"
   ]
  },
  {
   "cell_type": "markdown",
   "id": "governing-resistance",
   "metadata": {},
   "source": [
    "**Now reapply the same process, but instead calculate the price point frequencies for the `below_average` dataset.**"
   ]
  },
  {
   "cell_type": "code",
   "execution_count": 25,
   "id": "banner-reward",
   "metadata": {},
   "outputs": [
    {
     "data": {
      "text/plain": [
       "{'\\\\$\\\\$': 88, '\\\\$': 128, 'Unknown': 19, '\\\\$\\\\$\\\\$': 12}"
      ]
     },
     "execution_count": 25,
     "metadata": {},
     "output_type": "execute_result"
    }
   ],
   "source": [
    "# Create an empty dictionary to store the\n",
    "# counts for each price point\n",
    "blw_avg_prices = {}\n",
    "price_key1 = []\n",
    "\n",
    "# Loop over the above average restaurants\n",
    "# YOUR CODE HERE\n",
    "for restaurant in below_average:\n",
    "           \n",
    "    # Isolate the price point for the restuarant\n",
    "    # YOUR CODE HERE\n",
    "    price_key1.append(restaurant['price'])\n",
    "\n",
    "    # Check if the price has been added to the dictionary\n",
    "    # YOUR CODE HERE\n",
    "\n",
    "for index in price_key1:\n",
    "    blw_avg_prices[index] = blw_avg_prices.setdefault(index, 0) + 1\n",
    "    \n",
    "blw_avg_prices\n",
    "    \n",
    "            # If the price is already a key in the dictionary\n",
    "            # Add one to the count for that price point\n",
    "            # YOUR CODE HERE\n",
    "            \n",
    "    # If the price has not been added to the dictionary\n",
    "    # Else set the price as the key and the value as the integer `1`\n",
    "    # YOUR CODE HERE"
   ]
  },
  {
   "cell_type": "markdown",
   "id": "minimal-accused",
   "metadata": {},
   "source": [
    "Run the next cell unchanged to test your work!\n",
    "> If the below cell runs without throwing an error, your code is likely correct!"
   ]
  },
  {
   "cell_type": "code",
   "execution_count": 26,
   "id": "filled-absolute",
   "metadata": {},
   "outputs": [],
   "source": [
    "assert type(blw_avg_prices) == dict\n",
    "assert len(blw_avg_prices) == 4\n",
    "assert '\\\\$' in blw_avg_prices"
   ]
  },
  {
   "cell_type": "markdown",
   "id": "departmental-attitude",
   "metadata": {},
   "source": [
    "## Create a bar plot that sets the frequency of each price point as the y axis"
   ]
  },
  {
   "cell_type": "code",
   "execution_count": 27,
   "id": "f39aba8d",
   "metadata": {},
   "outputs": [
    {
     "name": "stdout",
     "output_type": "stream",
     "text": [
      "{'Unknown': 19, '\\\\$': 128, '\\\\$\\\\$': 88, '\\\\$\\\\$\\\\$': 12}\n",
      "<class 'dict'>\n"
     ]
    }
   ],
   "source": [
    "#Added code to put the results in order so analysis is easier in graphs below\n",
    "blw_avg_prices = dict(sorted(blw_avg_prices.items(), key=lambda item: item[0]))\n",
    "print(blw_avg_prices)\n",
    "print(type(blw_avg_prices))"
   ]
  },
  {
   "cell_type": "code",
   "execution_count": 28,
   "id": "9bfb9117",
   "metadata": {},
   "outputs": [
    {
     "name": "stdout",
     "output_type": "stream",
     "text": [
      "{'Unknown': 134, '\\\\$': 74, '\\\\$\\\\$': 87, '\\\\$\\\\$\\\\$': 10, '\\\\$\\\\$\\\\$\\\\$': 1}\n",
      "<class 'dict'>\n"
     ]
    }
   ],
   "source": [
    "#Added code to put the results in order so analysis is easier in graphs below\n",
    "abv_avg_prices = dict(sorted(abv_avg_prices.items(), key=lambda item: item[0]))\n",
    "print(abv_avg_prices)\n",
    "print(type(abv_avg_prices))"
   ]
  },
  {
   "cell_type": "code",
   "execution_count": 29,
   "id": "seeing-extension",
   "metadata": {
    "scrolled": true
   },
   "outputs": [
    {
     "name": "stdout",
     "output_type": "stream",
     "text": [
      "dict_keys(['Unknown', '\\\\$', '\\\\$\\\\$', '\\\\$\\\\$\\\\$'])\n",
      "dict_values([19, 128, 88, 12])\n",
      "dict_keys(['Unknown', '\\\\$', '\\\\$\\\\$', '\\\\$\\\\$\\\\$', '\\\\$\\\\$\\\\$\\\\$'])\n",
      "dict_values([134, 74, 87, 10, 1])\n"
     ]
    },
    {
     "data": {
      "text/plain": [
       "Text(0.5, 1.0, 'Above Average')"
      ]
     },
     "execution_count": 29,
     "metadata": {},
     "output_type": "execute_result"
    },
    {
     "data": {
      "image/png": "[encoded data removed]",
      "text/plain": [
       "<Figure size 1080x432 with 2 Axes>"
      ]
     },
     "metadata": {
      "needs_background": "light"
     },
     "output_type": "display_data"
    }
   ],
   "source": [
    "# Create a matplotlib subplot with 1 row and 2 columns\n",
    "# YOUR CODE HERE\n",
    "fig, ax = plt.subplots(1,2, figsize=(15,6))\n",
    "\n",
    "# Isolate keys of the below average price count dictionary\n",
    "# This will be the x-axis\n",
    "# YOUR CODE HERE\n",
    "x1axis = blw_avg_prices.keys()\n",
    "print(x1axis)\n",
    "\n",
    "# Isolate the values of the below average price count dictionary\n",
    "# This will be the y-axis\n",
    "# YOUR CODE HERE\n",
    "y1axis = blw_avg_prices.values()\n",
    "print(y1axis)\n",
    "\n",
    "# Plot the below average price point counts as a bar plot\n",
    "# on the first axis\n",
    "# YOUR CODE HERE\n",
    "ax[0].bar(x1axis,y1axis, edgecolor=\"black\")\n",
    "\n",
    "# Set the title for the first axis\n",
    "# to the string \"Below Average\"\n",
    "# YOUR CODE HERE\n",
    "ax[0].set_title(\"Below Average\", weight=\"bold\")\n",
    "\n",
    "# This will be the x-axis\n",
    "# YOUR CODE HERE\n",
    "\n",
    "# Isolate keys of the above average price count dictionary\n",
    "# This will be the x-axis\n",
    "# YOUR CODE HERE\n",
    "x2axis = abv_avg_prices.keys()\n",
    "print(x2axis)\n",
    "\n",
    "# Isolate the values of the above average price count dictionary\n",
    "# This will be the y-axis\n",
    "# YOUR CODE HERE\n",
    "y2axis = abv_avg_prices.values()\n",
    "print(y2axis)\n",
    "\n",
    "# Plot the above average price counts as a bar plot\n",
    "# on the second axis\n",
    "# YOUR CODE HERE\n",
    "ax[1].bar(x2axis,y2axis, edgecolor=\"black\")\n",
    "\n",
    "# Set the title for the second axis to \n",
    "# the string 'Above Average'\n",
    "# YOUR CODE HERE\n",
    "ax[1].set_title(\"Above Average\", weight=\"bold\")\n"
   ]
  },
  {
   "cell_type": "markdown",
   "id": "descending-attribute",
   "metadata": {},
   "source": [
    "**Interpret the above visualization. How does it relate to your client's claims?**"
   ]
  },
  {
   "cell_type": "markdown",
   "id": "274002dd",
   "metadata": {},
   "source": [
    "YOUR ANSWER HERE\n",
    "\n",
    "**Analysis:** Our client asked us to find the most common price point for above average restaurants in New York City. \n",
    "From the data in the graphs above the following observations are:\n",
    "\n",
    "- the most common price point for above average rating restaurants is 'unknown';\n",
    "\n",
    "- the second most common price point for above (and below average) rating restaurants is $$; and\n",
    "\n",
    "- the third most common price point for above average rating restaurants is \\\\$ and closely follows the \\\\$$ price point.\n",
    "\n",
    "The above observations contrast with the client's belief that most above average restaurants have the higher price point and therefore they should consider not increasing their prices to $$ as this does not match the majority of above average restaurants in this data.\n",
    "\n",
    "**Limitations:** Further analysis of the data should be completed and perhaps further collection should take place given the significant number of 'unknown' price points.\n"
   ]
  },
  {
   "cell_type": "markdown",
   "id": "occupied-westminster",
   "metadata": {},
   "source": [
    "## Analyze restaurant location\n",
    "\n",
    "In the cell below, use the `isolate_values` function to isolate `longitude` and `latitude` for above and below average restaurants."
   ]
  },
  {
   "cell_type": "code",
   "execution_count": 30,
   "id": "maritime-comparative",
   "metadata": {},
   "outputs": [
    {
     "data": {
      "image/png": "[encoded data removed]",
      "text/plain": [
       "<Figure size 1080x432 with 1 Axes>"
      ]
     },
     "metadata": {
      "needs_background": "light"
     },
     "output_type": "display_data"
    }
   ],
   "source": [
    "# Replace None with your code\n",
    "\n",
    "# Isolate longitude for above average restaurants\n",
    "abv_avg_lon = isolate_values(above_average, 'longitude')\n",
    "\n",
    "# Isolate latitude for above average restaurants\n",
    "abv_avg_lat = isolate_values(above_average, 'latitude')\n",
    "\n",
    "# Isolate longitude for below average restaurants\n",
    "blw_avg_lon = isolate_values(below_average, 'longitude')\n",
    "\n",
    "# Isolate latitude for below average restaurants\n",
    "blw_avg_lat = isolate_values(below_average, 'latitude')\n",
    "\n",
    "plt.figure(figsize=(15,6))\n",
    "plt.scatter(abv_avg_lon, abv_avg_lat, label='Above')\n",
    "plt.scatter(blw_avg_lon, blw_avg_lat, label='Below')\n",
    "plt.legend();"
   ]
  },
  {
   "cell_type": "markdown",
   "id": "intensive-palestine",
   "metadata": {},
   "source": [
    "## Remove the outlier\n",
    "\n",
    "There is one restaurant in the above average dataset with a location dramatically west and south of all other observations. Let's remove that restaurant from the above average dataset and regenerate the scatter plot."
   ]
  },
  {
   "cell_type": "code",
   "execution_count": 31,
   "id": "143f65e9",
   "metadata": {},
   "outputs": [
    {
     "name": "stdout",
     "output_type": "stream",
     "text": [
      "[{'name': 'New York Pizza', 'review_count': 115, 'rating': 4.5, 'price': '\\\\$\\\\$', 'location': {'address1': '701 W Elms Rd', 'address2': 'Ste 300', 'address3': '', 'city': 'Killeen', 'zip_code': '76542', 'country': 'US', 'state': 'TX', 'display_address': ['701 W Elms Rd', 'Ste 300', 'Killeen, TX 76542']}, 'transactions': ['delivery'], 'phone': '+12542851758', 'latitude': 31.086427, 'longitude': -97.753939}]\n"
     ]
    }
   ],
   "source": [
    "#added code to ascertain the outlier identity\n",
    "outlier_rest = []\n",
    "\n",
    "for restaurant in above_average:\n",
    "    if restaurant['longitude']<-90:\n",
    "        outlier_rest.append(restaurant)\n",
    "\n",
    "print(outlier_rest)    "
   ]
  },
  {
   "cell_type": "code",
   "execution_count": 32,
   "id": "rocky-wrong",
   "metadata": {},
   "outputs": [],
   "source": [
    "# Create an empty list\n",
    "# that will contain data with\n",
    "# the outlier removed\n",
    "no_outliers = []\n",
    "\n",
    "# Create an empty list to append the outlier\n",
    "outlier = []\n",
    "\n",
    "# Loop over every restaurant in the above average dataset\n",
    "# YOUR CODE HERE\n",
    "for restaurant in above_average:\n",
    "    \n",
    "    # Check if the longitude value is greater than the integer -90\n",
    "    # YOUR CODE HERE\n",
    "           \n",
    "        # Append the restaurant to the no_outliers list\n",
    "        # YOUR CODE HERE\n",
    "        \n",
    "    # If longitude is less than -90 it is an outlier\n",
    "    # and should be appended to the outlier list\n",
    "    # YOUR CODE HERE\n",
    "    \n",
    "    # Isolate the restaurant's longitude\n",
    "    # YOUR CODE HERE\n",
    "    \n",
    "    if restaurant['longitude']<-90:\n",
    "        outlier.append(restaurant)\n",
    "    \n",
    "    else:\n",
    "        if restaurant['longitude']>-90:\n",
    "            no_outliers.append(restaurant)\n",
    "    \n",
    "   "
   ]
  },
  {
   "cell_type": "markdown",
   "id": "material-psychology",
   "metadata": {},
   "source": [
    "Run the next cell unchanged to test your work!\n",
    "> If the below cell runs without throwing an error, your code is likely correct!"
   ]
  },
  {
   "cell_type": "code",
   "execution_count": 33,
   "id": "crude-medicine",
   "metadata": {},
   "outputs": [],
   "source": [
    "assert type(no_outliers) == list\n",
    "assert type(outlier) == list\n",
    "assert len(no_outliers) == len(above_average) - 1\n",
    "assert len(outlier) == 1"
   ]
  },
  {
   "cell_type": "markdown",
   "id": "colored-retreat",
   "metadata": {},
   "source": [
    "Now regenerate the longitude and latitude for above average restaurants using the `no_outliers` dataset, and regenerate the scatter plot!"
   ]
  },
  {
   "cell_type": "code",
   "execution_count": 34,
   "id": "black-tunnel",
   "metadata": {},
   "outputs": [
    {
     "data": {
      "image/png": "[encoded data removed]",
      "text/plain": [
       "<Figure size 1080x432 with 1 Axes>"
      ]
     },
     "metadata": {
      "needs_background": "light"
     },
     "output_type": "display_data"
    }
   ],
   "source": [
    "abv_avg_lon = isolate_values(no_outliers,'longitude')\n",
    "abv_avg_lat = isolate_values(no_outliers,'latitude')\n",
    "\n",
    "plt.figure(figsize=(15,6))\n",
    "plt.scatter(abv_avg_lon, abv_avg_lat, label='Above')\n",
    "plt.scatter(blw_avg_lon, blw_avg_lat, label='Below')\n",
    "plt.legend();"
   ]
  },
  {
   "cell_type": "markdown",
   "id": "assured-darkness",
   "metadata": {},
   "source": [
    "Nice. This is much more interesting. "
   ]
  },
  {
   "cell_type": "markdown",
   "id": "everyday-president",
   "metadata": {},
   "source": [
    "## Plot the distribution of latitude and longitude\n",
    "\n",
    "To get a better sense about how latitude and longitude are working, in the cell below plot histograms for latitude and longitude."
   ]
  },
  {
   "cell_type": "code",
   "execution_count": 35,
   "id": "empirical-contract",
   "metadata": {},
   "outputs": [
    {
     "data": {
      "text/plain": [
       "Text(0.5, 0, 'South ------------------------------------------------------ North')"
      ]
     },
     "execution_count": 35,
     "metadata": {},
     "output_type": "execute_result"
    },
    {
     "data": {
      "image/png": "[encoded data removed]",
      "text/plain": [
       "<Figure size 1080x432 with 2 Axes>"
      ]
     },
     "metadata": {
      "needs_background": "light"
     },
     "output_type": "display_data"
    }
   ],
   "source": [
    "# Create a matplotlib subplot with 1 row and 2 columns\n",
    "# YOUR CODE HERE\n",
    "fig, ax = plt.subplots(1,2, figsize=(15,6))\n",
    "\n",
    "# Plot a histogram of above average longitude\n",
    "# on the first subplot axis. Set alpha to .6\n",
    "# Set label to the string \"Above\"\n",
    "# YOUR CODE HERE\n",
    "ax[0].hist(abv_avg_lon, alpha=0.6)\n",
    "#ax[0].set_xlabel(\"Above\", weight = 'bold')\n",
    "\n",
    "# Plot a histogram of below average longitude\n",
    "# on the first subplot axis. Set alpha to .6\n",
    "# Set label to the string \"Below\"\n",
    "# YOUR CODE HERE\n",
    "ax[0].hist(blw_avg_lon, alpha=0.6)\n",
    "#ax[0].set_xlabel(\"Below\", weight = 'bold')\n",
    "\n",
    "# Set the title for the first subplot axis\n",
    "# to the string \"Longitude\"\n",
    "# YOUR CODE HERE\n",
    "ax[0].set_title(\"Longitude\", weight = 'bold')\n",
    "ax[0].legend([\"Above\", \"Below\"], loc=2);\n",
    "ax[0].set_xlabel(\"West ------------------------------------------------------ East\")\n",
    "\n",
    "# Plot a histogram of above average latitude\n",
    "# on the second subplot axis. Set alpha to .6\n",
    "# Set label to the string \"Above\"\n",
    "# YOUR CODE HERE\n",
    "ax[1].hist(abv_avg_lat, alpha=0.6)\n",
    "#ax[1].set_xlabel(\"Above\", weight = 'bold')\n",
    "\n",
    "# Plot a histogram of below average latitude\n",
    "# on the second subplot axis. Set alpha to .6\n",
    "# Set label to the string \"Below\"\n",
    "# YOUR CODE HERE\n",
    "ax[1].hist(blw_avg_lat, alpha=0.6)\n",
    "#ax[1].set_xlabel(\"Below\", weight = 'bold')\n",
    "\n",
    "# Set the title for the second subplot axis\n",
    "# to the string \"Latitude\"\n",
    "# YOUR CODE HERE\n",
    "ax[1].set_title(\"Latitude\", weight = 'bold')\n",
    "ax[1].legend([\"Above\", \"Below\"], loc=2);\n",
    "ax[1].set_xlabel(\"South ------------------------------------------------------ North\")"
   ]
  },
  {
   "cell_type": "code",
   "execution_count": 36,
   "id": "6e32e089",
   "metadata": {},
   "outputs": [
    {
     "name": "stdout",
     "output_type": "stream",
     "text": [
      "The correlation coefficient for the first 247 above and below restaurants' longitude is: -0.026771693994001877\n"
     ]
    }
   ],
   "source": [
    "#Added code to check on correlation coefficient for 247 longitude data points for above and below average restaurants\n",
    "print(\"The correlation coefficient for the first 247 above and below restaurants' longitude is:\",np.corrcoef(abv_avg_lon[0:247], blw_avg_lon[0:247])[0,1])"
   ]
  },
  {
   "cell_type": "code",
   "execution_count": 37,
   "id": "e2d9a366",
   "metadata": {},
   "outputs": [
    {
     "name": "stdout",
     "output_type": "stream",
     "text": [
      "The correlation coefficient for the first 219 above and below restaurants' latitude is: -0.005593788572096454\n",
      "The correlation coefficient for the first 247 above and below restaurants' latitude is: 0.05176334617213501\n"
     ]
    }
   ],
   "source": [
    "#Added code to check on correlation coefficient for 247 latitude data points for above and below average restaurants\n",
    "#Note at position 220 is an outlier for a above average restaurant which if included skews the correlation to above 0.05\n",
    "print(\"The correlation coefficient for the first 219 above and below restaurants' latitude is:\",np.corrcoef(abv_avg_lat[0:219], blw_avg_lat[0:219])[0,1])\n",
    "print(\"The correlation coefficient for the first 247 above and below restaurants' latitude is:\",np.corrcoef(abv_avg_lat[0:247], blw_avg_lat[0:247])[0,1])"
   ]
  },
  {
   "cell_type": "code",
   "execution_count": 38,
   "id": "9318ad24",
   "metadata": {},
   "outputs": [
    {
     "name": "stdout",
     "output_type": "stream",
     "text": [
      "The mean longitude for above average restaurants is: -73.96787728751275\n",
      "The mean latitude for above average restaurants is: 40.72544361701399\n",
      "The mean longitude for below average restaurants is: -73.97721755217\n",
      "The mean latitude for below average restaurants is: 40.72914576917321\n"
     ]
    }
   ],
   "source": [
    "#Added code to check on means for longitude and latitude for above and below restaurants\n",
    "import statistics\n",
    "print(\"The mean longitude for above average restaurants is:\",statistics.mean(abv_avg_lon))\n",
    "print(\"The mean latitude for above average restaurants is:\",statistics.mean(abv_avg_lat))\n",
    "print(\"The mean longitude for below average restaurants is:\",statistics.mean(blw_avg_lon))\n",
    "print(\"The mean latitude for below average restaurants is:\",statistics.mean(blw_avg_lat))"
   ]
  },
  {
   "cell_type": "markdown",
   "id": "durable-royalty",
   "metadata": {},
   "source": [
    "**Interpret the above visualization. How does it relate to your client's claims?**"
   ]
  },
  {
   "cell_type": "markdown",
   "id": "optimum-american",
   "metadata": {},
   "source": [
    "YOUR ANSWER HERE\n",
    "\n",
    "**Analysis:** Our client want to confirm their information that the above average restaurants are usually further east and below average are usually further west and that the biggest difference is whether the restaurant is on the north or south side. The observations from the graph include:\n",
    "\n",
    "- The restaurants located most to the East and South are above average restaurants but these resturants are outliers to the bulk of the data; \n",
    "\n",
    "- The restaurants located most to the West and North are below average restaurants and are also outliers to the bulk of the data;\n",
    "\n",
    "- The majority of the below average restaurant data has more western longitude readings than above average restaurants; \n",
    "\n",
    "- To a lesser extent the below average restaurant data has more southern latitude readings than above average restaurants; and\n",
    "\n",
    "- The bulk of the data for above and below average rating restaurants exhibit a similar distribution.\n",
    "\n",
    "The data supports the clients’ assertion that above average restaurants are further west but contrasts with the assertion that the north south difference is a bigger difference - it is not.\n",
    "\n",
    "Of note from other analysis, the mean for the above average restaurants is 890 metres* to the south east of the below average mean and more to the East than to the South which supports the data from the graph. \n",
    "\n",
    "*Reference:https://gps-coordinates\n"
   ]
  },
  {
   "cell_type": "markdown",
   "id": "extra-lithuania",
   "metadata": {},
   "source": [
    "## Find the most common zipcode for above average restaurants\n",
    "\n",
    "In the cell below, loop over the restaurants in the above average dataset and count the frequency of the restaurants zipcode."
   ]
  },
  {
   "cell_type": "code",
   "execution_count": 39,
   "id": "361c536b",
   "metadata": {},
   "outputs": [
    {
     "data": {
      "text/plain": [
       "{'10044': 1,\n",
       " '11415': 1,\n",
       " '10005': 1,\n",
       " '10065': 1,\n",
       " '10282': 1,\n",
       " '11101': 1,\n",
       " '10270': 1,\n",
       " '10280': 1,\n",
       " '11225': 1,\n",
       " '10451': 1,\n",
       " '10710': 1,\n",
       " '07928': 1,\n",
       " '11212': 1,\n",
       " '11215': 1,\n",
       " '07650': 1,\n",
       " '10461': 1,\n",
       " '10119': 1,\n",
       " '11209': 1,\n",
       " '11220': 1,\n",
       " '10031': 1,\n",
       " '07094': 1,\n",
       " '11203': 1,\n",
       " '11377': 1,\n",
       " '11236': 1,\n",
       " '11103': 1,\n",
       " '11224': 1,\n",
       " '10080': 1,\n",
       " '10314': 1,\n",
       " '11106': 1,\n",
       " '11218': 1,\n",
       " '11040': 1,\n",
       " '11378': 2,\n",
       " '07030': 2,\n",
       " '10006': 2,\n",
       " '11206': 2,\n",
       " '11232': 2,\n",
       " '10128': 2,\n",
       " '11238': 2,\n",
       " '11104': 2,\n",
       " '10004': 2,\n",
       " '11226': 2,\n",
       " '11385': 2,\n",
       " '10029': 2,\n",
       " '10075': 2,\n",
       " '10025': 3,\n",
       " '11217': 3,\n",
       " '10024': 3,\n",
       " '10038': 3,\n",
       " '11222': 3,\n",
       " '11207': 3,\n",
       " '11231': 3,\n",
       " '11216': 3,\n",
       " '11237': 3,\n",
       " '11205': 4,\n",
       " '10017': 4,\n",
       " '10007': 4,\n",
       " '10036': 4,\n",
       " '07302': 4,\n",
       " '10001': 4,\n",
       " '10018': 5,\n",
       " '10016': 5,\n",
       " '11249': 5,\n",
       " '11221': 5,\n",
       " '10023': 5,\n",
       " '10021': 5,\n",
       " '10028': 6,\n",
       " '10019': 6,\n",
       " '11211': 7,\n",
       " '10022': 7,\n",
       " '10012': 7,\n",
       " '10011': 8,\n",
       " '10002': 8,\n",
       " '10009': 8,\n",
       " '10014': 8,\n",
       " '10013': 8,\n",
       " '10010': 9,\n",
       " '11201': 13,\n",
       " '10003': 14}"
      ]
     },
     "execution_count": 39,
     "metadata": {},
     "output_type": "execute_result"
    }
   ],
   "source": [
    "#added code to find below average zipcodes\n",
    "\n",
    "blw_avg_zip_cnts = {}\n",
    "zipcodes = []\n",
    "\n",
    "for restaurant in below_average:\n",
    "    location = isolate_values(below_average,('location'))\n",
    "    \n",
    "    zipcodes = isolate_values(location,('zip_code'))\n",
    "zipcodes\n",
    "    \n",
    "for index in zipcodes:\n",
    "    blw_avg_zip_cnts[index] = blw_avg_zip_cnts.setdefault(index, 0) + 1\n",
    "    \n",
    "dict(sorted(blw_avg_zip_cnts.items(), key=lambda item: item[1]))\n",
    "       \n",
    "      "
   ]
  },
  {
   "cell_type": "code",
   "execution_count": 40,
   "id": "afraid-appendix",
   "metadata": {},
   "outputs": [
    {
     "data": {
      "text/plain": [
       "{'10028': 1,\n",
       " '11102': 1,\n",
       " '11249': 1,\n",
       " '10010': 1,\n",
       " '10128': 1,\n",
       " '76542': 1,\n",
       " '11373': 1,\n",
       " '10032': 1,\n",
       " '10038': 1,\n",
       " '10021': 1,\n",
       " '10030': 1,\n",
       " '11418': 1,\n",
       " '10035': 1,\n",
       " '11220': 1,\n",
       " '07020': 1,\n",
       " '07305': 1,\n",
       " '11050': 1,\n",
       " '10454': 1,\n",
       " '07901': 1,\n",
       " '10270': 1,\n",
       " '11375': 1,\n",
       " '10302': 1,\n",
       " '07732': 1,\n",
       " '10034': 1,\n",
       " '10301': 1,\n",
       " '11214': 1,\n",
       " '11432': 1,\n",
       " '11694': 1,\n",
       " '07042': 1,\n",
       " '10464': 1,\n",
       " '10112': 1,\n",
       " '11203': 1,\n",
       " '07002': 1,\n",
       " '11692': 1,\n",
       " '11224': 1,\n",
       " '11234': 1,\n",
       " '11561': 1,\n",
       " '10005': 1,\n",
       " '10705': 1,\n",
       " '10305': 1,\n",
       " '10304': 1,\n",
       " '11225': 1,\n",
       " '07304': 1,\n",
       " '11542': 1,\n",
       " '10075': 2,\n",
       " '10006': 2,\n",
       " '11218': 2,\n",
       " '10029': 2,\n",
       " '11233': 2,\n",
       " '07302': 2,\n",
       " '10004': 2,\n",
       " '11207': 2,\n",
       " '10461': 2,\n",
       " '07094': 2,\n",
       " '11212': 2,\n",
       " '07087': 2,\n",
       " '11219': 2,\n",
       " '07307': 2,\n",
       " '11213': 2,\n",
       " '11379': 2,\n",
       " '07010': 2,\n",
       " '11206': 2,\n",
       " '10023': 3,\n",
       " '11238': 3,\n",
       " '10065': 3,\n",
       " '11104': 3,\n",
       " '11221': 3,\n",
       " '10027': 3,\n",
       " '11103': 3,\n",
       " '11385': 3,\n",
       " '10036': 3,\n",
       " '10007': 3,\n",
       " '11421': 3,\n",
       " '11378': 3,\n",
       " '11216': 3,\n",
       " '10458': 3,\n",
       " '10025': 3,\n",
       " '11209': 4,\n",
       " '11217': 4,\n",
       " '11226': 4,\n",
       " '11105': 4,\n",
       " '11372': 4,\n",
       " '11205': 5,\n",
       " '10016': 5,\n",
       " '10017': 5,\n",
       " '11101': 5,\n",
       " '11231': 5,\n",
       " '10001': 5,\n",
       " '07047': 5,\n",
       " '10022': 6,\n",
       " '10011': 6,\n",
       " '11237': 6,\n",
       " '10019': 6,\n",
       " '10018': 6,\n",
       " '11201': 8,\n",
       " '11222': 8,\n",
       " '10013': 9,\n",
       " '10009': 9,\n",
       " '11215': 9,\n",
       " '10002': 9,\n",
       " '10012': 10,\n",
       " '10003': 10,\n",
       " '11211': 11,\n",
       " '10014': 13}"
      ]
     },
     "execution_count": 40,
     "metadata": {},
     "output_type": "execute_result"
    }
   ],
   "source": [
    "# Create an empty dictionary\n",
    "# This dictionary will hold the counts\n",
    "# for each zipcode\n",
    "abv_avg_zip_cnts = {}\n",
    "zipcodes = []\n",
    "\n",
    "# Loop over the above average dataset\n",
    "# YOUR CODE HERE\n",
    "for restaurant in above_average:\n",
    "    location = isolate_values(above_average,('location'))\n",
    "    #for location in restaurant['location']:\n",
    "     #   for zipcodes in location['zip_code']:\n",
    "    \n",
    "    # Isolate the restaurant's zipcode \n",
    "    # YOUR CODE HERE\n",
    "    zipcodes = isolate_values(location,('zip_code'))\n",
    "zipcodes\n",
    "    \n",
    "    # Check if the zipcode is a key in the dictionary\n",
    "    # YOUR CODE HERE\n",
    "\n",
    "for index in zipcodes:\n",
    "    abv_avg_zip_cnts[index] = abv_avg_zip_cnts.setdefault(index, 0) + 1\n",
    "    \n",
    "dict(sorted(abv_avg_zip_cnts.items(), key=lambda item: item[1]))\n",
    "        \n",
    "        # Add one to the zipcode's value\n",
    "        # YOUR CODE HERE\n",
    "    \n",
    "    # If the zipcode is not a key\n",
    "    # add it to the dictionary with a value of 1\n",
    "    # YOUR CODE HERE"
   ]
  },
  {
   "cell_type": "markdown",
   "id": "comfortable-clear",
   "metadata": {},
   "source": [
    "Run the next cell unchanged to test your work!\n",
    "> If the below cell runs without throwing an error, your code is likely correct!"
   ]
  },
  {
   "cell_type": "code",
   "execution_count": 41,
   "id": "subtle-outside",
   "metadata": {},
   "outputs": [],
   "source": [
    "assert type(abv_avg_zip_cnts) == dict\n",
    "assert len(abv_avg_zip_cnts) == 104 or len(abv_avg_zip_cnts) == 103\n",
    "assert '10012' in abv_avg_zip_cnts"
   ]
  },
  {
   "cell_type": "markdown",
   "id": "comparative-ribbon",
   "metadata": {},
   "source": [
    "Now loop over the `abv_avg_zip_cnts` dictionary and find the zipcode with the largest count. \n",
    "\n",
    "For this question, there are multiple ways to find the solution. Comments have not been provided."
   ]
  },
  {
   "cell_type": "code",
   "execution_count": 42,
   "id": "early-vertex",
   "metadata": {},
   "outputs": [
    {
     "name": "stdout",
     "output_type": "stream",
     "text": [
      "The zipcode with the highest count is 10014 with 13 restaurants located here.\n"
     ]
    }
   ],
   "source": [
    "# Your code here\n",
    "maximum = 0\n",
    "max_key = None\n",
    "\n",
    "for k in abv_avg_zip_cnts:\n",
    "    if abv_avg_zip_cnts[k] > maximum:\n",
    "        maximum = abv_avg_zip_cnts[k]\n",
    "        max_key = k\n",
    "\n",
    "print(\"The zipcode with the highest count is\", max_key, \"with\" , maximum, \"restaurants located here.\")"
   ]
  },
  {
   "cell_type": "markdown",
   "id": "careful-vegetarian",
   "metadata": {},
   "source": [
    "**Interpret the results. How does the most frequent zipcode relate to your client's claims?**"
   ]
  },
  {
   "cell_type": "markdown",
   "id": "auburn-division",
   "metadata": {},
   "source": [
    "YOUR ANSWER HERE\n",
    "\n",
    "**Analysis:** Our client believes that the 10012 zipcode in New York City is the best place to open a restaurant as they believe this location has the most above average rating restaurants in NYC. \n",
    "\n",
    "However, this is not correct as the neighbouring* zipcode 10014 has 3 more above average rating restaurants in its location than zipcode 10012. \n",
    "\n",
    "If our client wants to locate their restaurants in close proximity to other highly rated restaurants, they would choose preferentially the following zipcodes based on this data:\n",
    "\n",
    "- 10014 (location of 13 above average restaurants); \n",
    "\n",
    "- 11211 (location of 11 above average restaurants); and  \n",
    "\n",
    "- 10012 or 10003 (each a location of 10 above average restaurants).\n",
    "\n",
    "Of note with regard to our clients’ assertion that above average restaurants are usually further east, the zipcode 11211 is the most eastern* of all the top zipcode locations outlined above. \n",
    "\n",
    "*Ref: https://www.unitedstateszipcodes.org\n"
   ]
  },
  {
   "cell_type": "markdown",
   "id": "brave-venture",
   "metadata": {},
   "source": [
    "## Compile your findings into a report\n",
    "\n",
    "You have address all of your client's claims! In the cell below, describe the findings of your analysis."
   ]
  },
  {
   "cell_type": "markdown",
   "id": "effective-disclaimer",
   "metadata": {},
   "source": [
    "YOUR ANSWER HERE\n",
    "\n",
    "# Report for Pizza Restaurant Client\n",
    "\n",
    "## Summary\n",
    "\n",
    "Data analysis reveals an above average Yelp rating object for the new pizza restaurant in New York City (NYC) is 4.5 or above. The strategies to increase review counts and prices to increase ratings and locate the restaurant in zip code 10012 are not supported by data analysis although an eastern location may be appropriate. \n",
    "The author acknowledges that though the variables of review counts, prices and location may be correlated with higher ratings, these are not causative factors as other aspects will influence ratings. \n",
    "\n",
    "## Objective\n",
    "\n",
    "Our client is opening a pizza restaurant in NYC and wants to ensure this restaurant has an above average Yelp rating. In order to assist our client, Yelp data from 1000 NYC pizza restaurants has been analysed. \n",
    "Our client’s requirements with regard to NYC Pizza restaurants (restaurants) are listed below along with the relevant data analysis findings.\n",
    "\n",
    "## Yelp ratings for NYC pizza restaurants\n",
    "\n",
    "The average rating from the data was ‘4’ which is higher than the client’s expectation of ‘3’.  Data analysis revealed:\n",
    "-\t306 restaurants rated equal to or higher than 4.5 (referred to as ‘above average ratings’); \n",
    "-\t247 restaurants rated equal to or lower than 3.5 (referred to as ‘below average ratings’); and \n",
    "-\t447 restaurants rated between 3.5 and 4.5.\n",
    "\n",
    "In order to receive an above average Yelp rating, a rating of 4.5 or above is required for the new restaurant.\n",
    "\n",
    "## Rating results for high review counts and whether to maximise\n",
    "\n",
    "The mean review count for below rating restaurants is higher than that for above average ratings which contrasts with the client belief that restaurants with a high review count seem to be quite successful. \n",
    "According to this data, the average review counts for the above and below average rating are:\n",
    "\n",
    "-\tbelow average rating restaurants median of approximately 286 reviews; and\n",
    "-\tabove average rating restaurants median of approximately 189 reviews.\n",
    "\n",
    "The data does not show a relationship between high review counts and higher average ratings therefore the strategy to focus on maximizing review counts to receive a higher rating is not endorsed.\n",
    "\n",
    "## The most common price point for above average ratings\n",
    "\n",
    "The analysis for the most common price point revealed the following:\n",
    "-\tthe most common price point for above average rating restaurants is 'unknown';\n",
    "-\tthe second most common price point for above (and below average) rating restaurants is two dollar signs; and\n",
    "-\tthe third most common price point for above average rating restaurants is one dollar sign and closely follows the 2 dollar sign price point.\n",
    "\n",
    "This data appears to contrast with the client's belief that most above average restaurants have the higher price point and therefore they should consider not increasing their prices to $$ as this does not match the majority of above average restaurants in this data and given the most common price point is unknown. \n",
    "\n",
    "## Location of above average rating restaurants\n",
    "\n",
    "**Longitude/Latitude:** In order to assess if above average restaurants are located further east and south than below average restaurants, longitude and latitude data analysis was conducted with the following findings:\n",
    "\n",
    "- The majority of above and below average rating restaurants exhibit a similar location distribution with above average restaurants having a larger spread of locations;\n",
    "-\tThe majority of the below average restaurants have more western longitude readings than above average restaurants; \n",
    "-\tTo a lesser extent the below average restaurant data has more southern latitude readings than above average restaurants;\n",
    "-\tAbove average restaurants are located in the furthest East and South locations but these locations differ from most other data points; and\n",
    "-\tBelow average restaurants are located in the furthest West and North locations but these locations also differ from most other data points.\n",
    "\n",
    "The data provides weak support for the client’s assertion that above average restaurants are located further east and does not support the assertion that the north south difference is a bigger difference.\n",
    "\n",
    "**Zip code:** The following zip codes are the top five zip code locations for above average rating restaurants with the location number of below average restaurants provided for comparison:\n",
    "-\tZip code location of 10014: location of 13 Above Average & 8 Below average restaurants\n",
    "-\tZip code location of 11211: location of 11 Above Average & 7 Below average restaurants\n",
    "-\tZip code location of 10012: location of 10 Above Average & 7 Below average restaurants\n",
    "-\tZip code location of 10003: location of 10 Above Average & 14 Below average restaurants\n",
    "-\tZip code location of 10013: location of 9 Above Average & 8 Below average restaurants\n",
    "\n",
    "With note regarding whether above average restaurants are usually further east, the zip code 11211 is the most eastern of all the top zip code locations and is the second highest location for above average ratings. \n",
    "If the zip code of 10014 is chosen, this is the location of the highest concentration of above average rating restaurants and the fifth highest location for below average rating restaurants. \n",
    "\n",
    "## Limitations of this analysis\n",
    "\n",
    "The data consists of various outliers which likely has the following effect:\n",
    "- the average rating negatively and is likely higher than ‘4’;\n",
    "- the average review count positively and is likely lower for both above and below average rating restaurants;\n",
    "- altering of the longitude and latitude location analysis; \n",
    "\n",
    "This dataset may not be best representative of NYC pizza restaurants in size or in recency and the client should consider other datasets being analysed prior to final strategy decisions.\n",
    "\n",
    "Given the significant number of 'unknown' price points, further data collection and analysis should be considered.\n",
    "\n",
    "As outlined above correlation of different data above does not necessarily mean causation, that is, higher review counts, higher prices and location do not necessarily result in a higher Yelp rating. \n",
    "\n",
    "*End of report*\n"
   ]
  },
  {
   "cell_type": "markdown",
   "id": "neural-aurora",
   "metadata": {},
   "source": [
    "# Summary\n",
    "\n",
    "Well done! As you can see, manipulating nested data stuctures can be a challenging task. Pulling information from json objects requires a thoughtful inspection of how the data is organized, and code that allows you to avoid repetition."
   ]
  }
 ],
 "metadata": {
  "kernelspec": {
   "display_name": "Python 3",
   "language": "python",
   "name": "python3"
  },
  "language_info": {
   "codemirror_mode": {
    "name": "ipython",
    "version": 3
   },
   "file_extension": ".py",
   "mimetype": "text/x-python",
   "name": "python",
   "nbconvert_exporter": "python",
   "pygments_lexer": "ipython3",
   "version": "3.9.5"
  }
 },
 "nbformat": 4,
 "nbformat_minor": 5
}
